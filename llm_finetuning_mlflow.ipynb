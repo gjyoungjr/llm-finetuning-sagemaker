{
 "cells": [
  {
   "cell_type": "markdown",
   "metadata": {
    "vscode": {
     "languageId": "plaintext"
    }
   },
   "source": [
    "# Fine-Tuning and Evaluating LLMs with SageMaker Pipelines and MLflow"
   ]
  },
  {
   "cell_type": "code",
   "execution_count": 1,
   "metadata": {},
   "outputs": [
    {
     "name": "stdout",
     "output_type": "stream",
     "text": [
      "Note: you may need to restart the kernel to use updated packages.\n"
     ]
    }
   ],
   "source": [
    "%pip install sagemaker==2.225.0  datasets==2.18.0 transformers==4.40.0 mlflow==2.13.2 sagemaker-mlflow==0.1.0 --quiet"
   ]
  },
  {
   "cell_type": "code",
   "execution_count": 2,
   "metadata": {},
   "outputs": [],
   "source": [
    "%load_ext autoreload\n",
    "%autoreload 2"
   ]
  },
  {
   "cell_type": "code",
   "execution_count": 3,
   "metadata": {},
   "outputs": [
    {
     "name": "stdout",
     "output_type": "stream",
     "text": [
      "sagemaker.config INFO - Not applying SDK defaults from location: /Library/Application Support/sagemaker/config.yaml\n",
      "sagemaker.config INFO - Not applying SDK defaults from location: /Users/gilbertyoung/Library/Application Support/sagemaker/config.yaml\n"
     ]
    },
    {
     "name": "stderr",
     "output_type": "stream",
     "text": [
      "/opt/anaconda3/envs/llm-fine-tuning/lib/python3.10/site-packages/tqdm/auto.py:21: TqdmWarning: IProgress not found. Please update jupyter and ipywidgets. See https://ipywidgets.readthedocs.io/en/stable/user_install.html\n",
      "  from .autonotebook import tqdm as notebook_tqdm\n"
     ]
    }
   ],
   "source": [
    "import sagemaker\n",
    "from sagemaker.workflow.pipeline import Pipeline\n",
    "from sagemaker.workflow.execution_variables import ExecutionVariables\n",
    "from sagemaker.workflow.function_step import step\n",
    "from steps.finetune_llama8b_hf import finetune_llama8b\n",
    "from steps.preprocess_llama3 import preprocess\n",
    "from steps.eval_mlflow import evaluation\n",
    "from steps.utils import create_training_job_name\n",
    "import os\n",
    "\n",
    "os.environ[\"SAGEMAKER_USER_CONFIG_OVERRIDE\"] = os.getcwd()"
   ]
  },
  {
   "cell_type": "markdown",
   "metadata": {},
   "source": [
    "## 1. SageMaker Session & IAM Role"
   ]
  },
  {
   "cell_type": "code",
   "execution_count": 4,
   "metadata": {},
   "outputs": [
    {
     "name": "stderr",
     "output_type": "stream",
     "text": [
      "INFO:botocore.credentials:Found credentials in shared credentials file: ~/.aws/credentials\n"
     ]
    },
    {
     "name": "stdout",
     "output_type": "stream",
     "text": [
      "sagemaker.config INFO - Fetched defaults config from location: /Users/gilbertyoung/Documents/llm-finetuning-sagemaker\n"
     ]
    },
    {
     "name": "stderr",
     "output_type": "stream",
     "text": [
      "WARNING:sagemaker:Couldn't call 'get_role' to get Role ARN from role name AppUser to get Role path.\n",
      "INFO:botocore.credentials:Found credentials in shared credentials file: ~/.aws/credentials\n",
      "INFO:botocore.credentials:Found credentials in shared credentials file: ~/.aws/credentials\n"
     ]
    },
    {
     "name": "stdout",
     "output_type": "stream",
     "text": [
      "891612587330\n"
     ]
    }
   ],
   "source": [
    "\n",
    "\n",
    "import boto3\n",
    "\n",
    "try:\n",
    "    role = sagemaker.get_execution_role()\n",
    "    print(role)\n",
    "except ValueError:\n",
    "    iam = boto3.client(\"iam\")\n",
    "    # Hard coded ARN since, I'm running this notebook locally to reduce AWS costs\n",
    "    role = \"arn:aws:iam::891612587330:role/service-role/AmazonSageMaker-ExecutionRole-20241230T123665\"\n",
    "\n",
    "boto3_session = boto3.Session(profile_name=\"default\")\n",
    "sess = sagemaker.Session(boto_session=boto3_session)\n",
    "print(sess.account_id())"
   ]
  },
  {
   "cell_type": "code",
   "execution_count": 5,
   "metadata": {},
   "outputs": [
    {
     "data": {
      "text/plain": [
       "'429704687514.dkr.ecr.us-east-2.amazonaws.com/sagemaker-base-python-311:1.0'"
      ]
     },
     "execution_count": 5,
     "metadata": {},
     "output_type": "execute_result"
    }
   ],
   "source": [
    "sagemaker.image_uris.get_base_python_image_uri('us-east-2', py_version='311')"
   ]
  },
  {
   "cell_type": "markdown",
   "metadata": {},
   "source": [
    "## 2. Training Configurations "
   ]
  },
  {
   "cell_type": "code",
   "execution_count": 6,
   "metadata": {},
   "outputs": [],
   "source": [
    "train_config = {\n",
    "    \"experiment_name\": \"all_target_modules_1K\",\n",
    "    \"model_id\": \"meta-llama/Meta-Llama-3-8B\",\n",
    "    \"model_version\": \"3.0.2\",\n",
    "    \"model_name\": \"llama-3-8b\",\n",
    "    \"endpoint_name\": \"llama-3-8b\",\n",
    "    \"finetune_instance_type\": \"ml.g5.2xlarge\",\n",
    "    \"finetune_num_instances\": 1,\n",
    "    \"instance_type\": \"ml.g5.2xlarge\",\n",
    "    \"num_instances\": 1,\n",
    "    \"epoch\": 1,\n",
    "    \"per_device_train_batch_size\": 4,\n",
    "}"
   ]
  },
  {
   "cell_type": "markdown",
   "metadata": {},
   "source": [
    "### LoRA Parameters"
   ]
  },
  {
   "cell_type": "code",
   "execution_count": 7,
   "metadata": {},
   "outputs": [],
   "source": [
    "lora_params = {\"lora_r\": 8, \"lora_alpha\": 16, \"lora_dropout\": 0.05}"
   ]
  },
  {
   "cell_type": "markdown",
   "metadata": {},
   "source": [
    "### MLFlow Setup"
   ]
  },
  {
   "cell_type": "code",
   "execution_count": 8,
   "metadata": {},
   "outputs": [],
   "source": [
    "mlflow_arn = \"arn:aws:sagemaker:us-east-2:891612587330:mlflow-tracking-server/llm-finetuning-experiment\"  # fill MLflow tracking server ARN\n",
    "experiment_name = \"llm-finetuning-experiment\""
   ]
  },
  {
   "cell_type": "markdown",
   "metadata": {},
   "source": [
    "### Dataset Configurations "
   ]
  },
  {
   "cell_type": "code",
   "execution_count": 9,
   "metadata": {},
   "outputs": [],
   "source": [
    "dataset_name = \"HuggingFaceH4/no_robots\""
   ]
  },
  {
   "cell_type": "markdown",
   "metadata": {},
   "source": [
    "### Setting up Pipeline Steps"
   ]
  },
  {
   "cell_type": "code",
   "execution_count": 10,
   "metadata": {},
   "outputs": [],
   "source": [
    "from sagemaker.workflow.parameters import ParameterString\n",
    "import json"
   ]
  },
  {
   "cell_type": "code",
   "execution_count": 11,
   "metadata": {},
   "outputs": [],
   "source": [
    "lora_config = ParameterString(name=\"lora_config\", default_value=json.dumps(lora_params))"
   ]
  },
  {
   "cell_type": "markdown",
   "metadata": {},
   "source": [
    "#### Preprocessing step"
   ]
  },
  {
   "cell_type": "code",
   "execution_count": 12,
   "metadata": {},
   "outputs": [
    {
     "name": "stdout",
     "output_type": "stream",
     "text": [
      "sagemaker-us-east-2-891612587330\n",
      "The pipeline name is training-evaulation-pipeline-mlflow\n",
      "Output S3 bucket: s3://sagemaker-us-east-2-891612587330/datasets/hf_no_robots/output_training-evaulation-pipeline-mlflow\n"
     ]
    }
   ],
   "source": [
    "\n",
    "pipeline_name = \"training-evaulation-pipeline-mlflow\"\n",
    "\n",
    "#default_bucket = sagemaker.Session().default_bucket()\n",
    "default_bucket = sess.default_bucket()\n",
    "\n",
    "print(default_bucket)\n",
    "main_data_path = f\"s3://{default_bucket}\"\n",
    "evaluation_data_path = (\n",
    "    main_data_path\n",
    "    + \"/datasets/hf_no_robots/evaluation/automatic_small/dataset_evaluation_small.jsonl\"\n",
    ")\n",
    "output_data_path = main_data_path + \"/datasets/hf_no_robots/output_\" + pipeline_name\n",
    "\n",
    "# You can add your own evaluation dataset code into this step\n",
    "preprocess_step_ret = step(preprocess, name=\"preprocess\")(\n",
    "    default_bucket,\n",
    "    dataset_name,\n",
    "    train_sample=100,\n",
    "    eval_sample=100,\n",
    "    mlflow_arn=mlflow_arn,\n",
    "    experiment_name=experiment_name,\n",
    "    run_name=ExecutionVariables.PIPELINE_EXECUTION_ID,\n",
    ")\n",
    "\n",
    "print(\"The pipeline name is \" + pipeline_name)\n",
    "# Mark the name of this bucket for reviewing the artifacts generated by this pipeline at the end of the execution\n",
    "print(\"Output S3 bucket: \" + output_data_path)"
   ]
  },
  {
   "cell_type": "markdown",
   "metadata": {},
   "source": [
    "#### Fine-tuning step"
   ]
  },
  {
   "cell_type": "code",
   "execution_count": 13,
   "metadata": {},
   "outputs": [],
   "source": [
    "finetune_ret = step(finetune_llama8b, name=\"finetune_llama8b_instruction\")(\n",
    "    preprocess_step_ret,\n",
    "    train_config,\n",
    "    lora_config,\n",
    "    role,\n",
    "    mlflow_arn,\n",
    "    experiment_name,\n",
    "    ExecutionVariables.PIPELINE_EXECUTION_ID,\n",
    ")"
   ]
  },
  {
   "cell_type": "markdown",
   "metadata": {},
   "source": [
    "#### Evaluation Step"
   ]
  },
  {
   "cell_type": "code",
   "execution_count": 14,
   "metadata": {},
   "outputs": [],
   "source": [
    "evaluate_finetuned_llama7b_instruction_mlflow = step(\n",
    "    evaluation,\n",
    "    name=\"evaluate_finetuned_llama8b_instr\",\n",
    "    # keep_alive_period_in_seconds=1200,\n",
    "    instance_type=\"ml.g5.12xlarge\",\n",
    "    volume_size=100,\n",
    ")(train_config, preprocess_step_ret, finetune_ret, mlflow_arn, experiment_name, \"\")"
   ]
  },
  {
   "cell_type": "markdown",
   "metadata": {},
   "source": [
    "#### Pipeline Creation & Execution"
   ]
  },
  {
   "cell_type": "code",
   "execution_count": 15,
   "metadata": {},
   "outputs": [],
   "source": [
    "\n",
    "\n",
    "from sagemaker import get_execution_role\n",
    "\n",
    "pipeline = Pipeline(\n",
    "    name=pipeline_name,\n",
    "    steps=[evaluate_finetuned_llama7b_instruction_mlflow],\n",
    "    parameters=[lora_config],\n",
    "    sagemaker_session=sess\n",
    ")"
   ]
  },
  {
   "cell_type": "code",
   "execution_count": 16,
   "metadata": {},
   "outputs": [
    {
     "name": "stdout",
     "output_type": "stream",
     "text": [
      "sagemaker.config INFO - Applied value from config key = SageMaker.PythonSDK.Modules.RemoteFunction.ImageUri\n",
      "sagemaker.config INFO - Applied value from config key = SageMaker.PythonSDK.Modules.RemoteFunction.Dependencies\n",
      "sagemaker.config INFO - Applied value from config key = SageMaker.PythonSDK.Modules.RemoteFunction.IncludeLocalWorkDir\n",
      "sagemaker.config INFO - Applied value from config key = SageMaker.PythonSDK.Modules.RemoteFunction.CustomFileFilter.IgnoreNamePatterns\n",
      "sagemaker.config INFO - Applied value from config key = SageMaker.PythonSDK.Modules.RemoteFunction.RoleArn\n"
     ]
    },
    {
     "name": "stderr",
     "output_type": "stream",
     "text": [
      "2025-02-26 22:27:43,747 sagemaker.remote_function INFO     Uploading serialized function code to s3://sagemaker-us-east-2-891612587330/training-evaulation-pipeline-mlflow/evaluate_finetuned_llama8b_instr/2025-02-26-22-27-42-930/function\n",
      "2025-02-26 22:27:44,122 sagemaker.remote_function INFO     Uploading serialized function arguments to s3://sagemaker-us-east-2-891612587330/training-evaulation-pipeline-mlflow/evaluate_finetuned_llama8b_instr/2025-02-26-22-27-42-930/arguments\n",
      "2025-02-26 22:27:45,176 sagemaker.remote_function INFO     Copied dependencies file at './requirements.txt' to '/var/folders/87/9dqc4s4d7vv8wl84d0yy35tw0000gn/T/tmpdpn6n5b9/requirements.txt'\n",
      "2025-02-26 22:27:45,383 sagemaker.remote_function INFO     Successfully uploaded dependencies and pre execution scripts to 's3://sagemaker-us-east-2-891612587330/training-evaulation-pipeline-mlflow/evaluate_finetuned_llama8b_instr/2025-02-26-22-27-42-930/pre_exec_script_and_dependencies'\n",
      "2025-02-26 22:27:45,722 sagemaker.remote_function INFO     Copied user workspace to '/var/folders/87/9dqc4s4d7vv8wl84d0yy35tw0000gn/T/tmp_unwpqle/temp_workspace/sagemaker_remote_function_workspace'\n",
      "2025-02-26 22:27:45,972 sagemaker.remote_function INFO     Successfully created workdir archive at '/var/folders/87/9dqc4s4d7vv8wl84d0yy35tw0000gn/T/tmp_unwpqle/workspace.zip'\n",
      "2025-02-26 22:27:48,346 sagemaker.remote_function INFO     Successfully uploaded workdir to 's3://sagemaker-us-east-2-891612587330/training-evaulation-pipeline-mlflow/sm_rf_user_ws/2025-02-26-22-27-42-930/workspace.zip'\n",
      "WARNING:sagemaker.workflow.utilities:Popping out 'TrainingJobName' from the pipeline definition by default since it will be overridden at pipeline execution time. Please utilize the PipelineDefinitionConfig to persist this field in the pipeline definition if desired.\n"
     ]
    },
    {
     "name": "stdout",
     "output_type": "stream",
     "text": [
      "sagemaker.config INFO - Applied value from config key = SageMaker.PythonSDK.Modules.RemoteFunction.ImageUri\n",
      "sagemaker.config INFO - Applied value from config key = SageMaker.PythonSDK.Modules.RemoteFunction.Dependencies\n",
      "sagemaker.config INFO - Applied value from config key = SageMaker.PythonSDK.Modules.RemoteFunction.IncludeLocalWorkDir\n",
      "sagemaker.config INFO - Applied value from config key = SageMaker.PythonSDK.Modules.RemoteFunction.CustomFileFilter.IgnoreNamePatterns\n",
      "sagemaker.config INFO - Applied value from config key = SageMaker.PythonSDK.Modules.RemoteFunction.InstanceType\n",
      "sagemaker.config INFO - Applied value from config key = SageMaker.PythonSDK.Modules.RemoteFunction.RoleArn\n"
     ]
    },
    {
     "name": "stderr",
     "output_type": "stream",
     "text": [
      "2025-02-26 22:27:49,256 sagemaker.remote_function INFO     Uploading serialized function code to s3://sagemaker-us-east-2-891612587330/training-evaulation-pipeline-mlflow/preprocess/2025-02-26-22-27-42-930/function\n",
      "2025-02-26 22:27:49,667 sagemaker.remote_function INFO     Uploading serialized function arguments to s3://sagemaker-us-east-2-891612587330/training-evaulation-pipeline-mlflow/preprocess/2025-02-26-22-27-42-930/arguments\n",
      "2025-02-26 22:27:50,093 sagemaker.remote_function INFO     Copied dependencies file at './requirements.txt' to '/var/folders/87/9dqc4s4d7vv8wl84d0yy35tw0000gn/T/tmp2kakkpq_/requirements.txt'\n",
      "2025-02-26 22:27:50,301 sagemaker.remote_function INFO     Successfully uploaded dependencies and pre execution scripts to 's3://sagemaker-us-east-2-891612587330/training-evaulation-pipeline-mlflow/preprocess/2025-02-26-22-27-42-930/pre_exec_script_and_dependencies'\n",
      "WARNING:sagemaker.workflow.utilities:Popping out 'TrainingJobName' from the pipeline definition by default since it will be overridden at pipeline execution time. Please utilize the PipelineDefinitionConfig to persist this field in the pipeline definition if desired.\n"
     ]
    },
    {
     "name": "stdout",
     "output_type": "stream",
     "text": [
      "sagemaker.config INFO - Applied value from config key = SageMaker.PythonSDK.Modules.RemoteFunction.ImageUri\n",
      "sagemaker.config INFO - Applied value from config key = SageMaker.PythonSDK.Modules.RemoteFunction.Dependencies\n",
      "sagemaker.config INFO - Applied value from config key = SageMaker.PythonSDK.Modules.RemoteFunction.IncludeLocalWorkDir\n",
      "sagemaker.config INFO - Applied value from config key = SageMaker.PythonSDK.Modules.RemoteFunction.CustomFileFilter.IgnoreNamePatterns\n",
      "sagemaker.config INFO - Applied value from config key = SageMaker.PythonSDK.Modules.RemoteFunction.InstanceType\n",
      "sagemaker.config INFO - Applied value from config key = SageMaker.PythonSDK.Modules.RemoteFunction.RoleArn\n"
     ]
    },
    {
     "name": "stderr",
     "output_type": "stream",
     "text": [
      "2025-02-26 22:27:51,162 sagemaker.remote_function INFO     Uploading serialized function code to s3://sagemaker-us-east-2-891612587330/training-evaulation-pipeline-mlflow/finetune_llama8b_instruction/2025-02-26-22-27-42-930/function\n",
      "2025-02-26 22:27:51,534 sagemaker.remote_function INFO     Uploading serialized function arguments to s3://sagemaker-us-east-2-891612587330/training-evaulation-pipeline-mlflow/finetune_llama8b_instruction/2025-02-26-22-27-42-930/arguments\n",
      "2025-02-26 22:27:51,934 sagemaker.remote_function INFO     Copied dependencies file at './requirements.txt' to '/var/folders/87/9dqc4s4d7vv8wl84d0yy35tw0000gn/T/tmph8aj7f85/requirements.txt'\n",
      "2025-02-26 22:27:52,130 sagemaker.remote_function INFO     Successfully uploaded dependencies and pre execution scripts to 's3://sagemaker-us-east-2-891612587330/training-evaulation-pipeline-mlflow/finetune_llama8b_instruction/2025-02-26-22-27-42-930/pre_exec_script_and_dependencies'\n",
      "WARNING:sagemaker.workflow.utilities:Popping out 'TrainingJobName' from the pipeline definition by default since it will be overridden at pipeline execution time. Please utilize the PipelineDefinitionConfig to persist this field in the pipeline definition if desired.\n",
      "2025-02-26 22:27:53,077 sagemaker.remote_function INFO     Uploading serialized function code to s3://sagemaker-us-east-2-891612587330/training-evaulation-pipeline-mlflow/evaluate_finetuned_llama8b_instr/2025-02-26-22-27-53-077/function\n",
      "2025-02-26 22:27:53,470 sagemaker.remote_function INFO     Uploading serialized function arguments to s3://sagemaker-us-east-2-891612587330/training-evaulation-pipeline-mlflow/evaluate_finetuned_llama8b_instr/2025-02-26-22-27-53-077/arguments\n",
      "2025-02-26 22:27:54,472 sagemaker.remote_function INFO     Copied dependencies file at './requirements.txt' to '/var/folders/87/9dqc4s4d7vv8wl84d0yy35tw0000gn/T/tmp7mtty7_u/requirements.txt'\n",
      "2025-02-26 22:27:54,666 sagemaker.remote_function INFO     Successfully uploaded dependencies and pre execution scripts to 's3://sagemaker-us-east-2-891612587330/training-evaulation-pipeline-mlflow/evaluate_finetuned_llama8b_instr/2025-02-26-22-27-53-077/pre_exec_script_and_dependencies'\n",
      "2025-02-26 22:27:54,983 sagemaker.remote_function INFO     Copied user workspace to '/var/folders/87/9dqc4s4d7vv8wl84d0yy35tw0000gn/T/tmppoatg4ke/temp_workspace/sagemaker_remote_function_workspace'\n",
      "2025-02-26 22:27:55,237 sagemaker.remote_function INFO     Successfully created workdir archive at '/var/folders/87/9dqc4s4d7vv8wl84d0yy35tw0000gn/T/tmppoatg4ke/workspace.zip'\n",
      "2025-02-26 22:27:56,909 sagemaker.remote_function INFO     Successfully uploaded workdir to 's3://sagemaker-us-east-2-891612587330/training-evaulation-pipeline-mlflow/sm_rf_user_ws/2025-02-26-22-27-53-077/workspace.zip'\n",
      "WARNING:sagemaker.workflow.utilities:Popping out 'TrainingJobName' from the pipeline definition by default since it will be overridden at pipeline execution time. Please utilize the PipelineDefinitionConfig to persist this field in the pipeline definition if desired.\n",
      "2025-02-26 22:27:56,987 sagemaker.remote_function INFO     Uploading serialized function code to s3://sagemaker-us-east-2-891612587330/training-evaulation-pipeline-mlflow/preprocess/2025-02-26-22-27-53-077/function\n",
      "2025-02-26 22:27:57,396 sagemaker.remote_function INFO     Uploading serialized function arguments to s3://sagemaker-us-east-2-891612587330/training-evaulation-pipeline-mlflow/preprocess/2025-02-26-22-27-53-077/arguments\n",
      "2025-02-26 22:27:57,816 sagemaker.remote_function INFO     Copied dependencies file at './requirements.txt' to '/var/folders/87/9dqc4s4d7vv8wl84d0yy35tw0000gn/T/tmpsxeaykgx/requirements.txt'\n",
      "2025-02-26 22:27:58,033 sagemaker.remote_function INFO     Successfully uploaded dependencies and pre execution scripts to 's3://sagemaker-us-east-2-891612587330/training-evaulation-pipeline-mlflow/preprocess/2025-02-26-22-27-53-077/pre_exec_script_and_dependencies'\n",
      "WARNING:sagemaker.workflow.utilities:Popping out 'TrainingJobName' from the pipeline definition by default since it will be overridden at pipeline execution time. Please utilize the PipelineDefinitionConfig to persist this field in the pipeline definition if desired.\n",
      "2025-02-26 22:27:58,039 sagemaker.remote_function INFO     Uploading serialized function code to s3://sagemaker-us-east-2-891612587330/training-evaulation-pipeline-mlflow/finetune_llama8b_instruction/2025-02-26-22-27-53-077/function\n",
      "2025-02-26 22:27:58,447 sagemaker.remote_function INFO     Uploading serialized function arguments to s3://sagemaker-us-east-2-891612587330/training-evaulation-pipeline-mlflow/finetune_llama8b_instruction/2025-02-26-22-27-53-077/arguments\n",
      "2025-02-26 22:27:58,831 sagemaker.remote_function INFO     Copied dependencies file at './requirements.txt' to '/var/folders/87/9dqc4s4d7vv8wl84d0yy35tw0000gn/T/tmponr00l5x/requirements.txt'\n",
      "2025-02-26 22:27:59,021 sagemaker.remote_function INFO     Successfully uploaded dependencies and pre execution scripts to 's3://sagemaker-us-east-2-891612587330/training-evaulation-pipeline-mlflow/finetune_llama8b_instruction/2025-02-26-22-27-53-077/pre_exec_script_and_dependencies'\n",
      "WARNING:sagemaker.workflow.utilities:Popping out 'TrainingJobName' from the pipeline definition by default since it will be overridden at pipeline execution time. Please utilize the PipelineDefinitionConfig to persist this field in the pipeline definition if desired.\n"
     ]
    },
    {
     "data": {
      "text/plain": [
       "{'PipelineArn': 'arn:aws:sagemaker:us-east-2:891612587330:pipeline/training-evaulation-pipeline-mlflow',\n",
       " 'ResponseMetadata': {'RequestId': '0bad6e8a-0ab1-4f70-9db5-14f9a3c7d656',\n",
       "  'HTTPStatusCode': 200,\n",
       "  'HTTPHeaders': {'x-amzn-requestid': '0bad6e8a-0ab1-4f70-9db5-14f9a3c7d656',\n",
       "   'content-type': 'application/x-amz-json-1.1',\n",
       "   'content-length': '103',\n",
       "   'date': 'Wed, 26 Feb 2025 22:27:59 GMT'},\n",
       "  'RetryAttempts': 0}}"
      ]
     },
     "execution_count": 16,
     "metadata": {},
     "output_type": "execute_result"
    }
   ],
   "source": [
    "pipeline.upsert(role)"
   ]
  },
  {
   "cell_type": "markdown",
   "metadata": {},
   "source": [
    "The following cell with execute the pipeline."
   ]
  },
  {
   "cell_type": "code",
   "execution_count": 17,
   "metadata": {},
   "outputs": [],
   "source": [
    "execution1 = pipeline.start()"
   ]
  },
  {
   "cell_type": "code",
   "execution_count": null,
   "metadata": {},
   "outputs": [],
   "source": []
  }
 ],
 "metadata": {
  "kernelspec": {
   "display_name": "Python 3 (ipykernel)",
   "language": "python",
   "name": "python3"
  },
  "language_info": {
   "codemirror_mode": {
    "name": "ipython",
    "version": 3
   },
   "file_extension": ".py",
   "mimetype": "text/x-python",
   "name": "python",
   "nbconvert_exporter": "python",
   "pygments_lexer": "ipython3",
   "version": "3.10.16"
  }
 },
 "nbformat": 4,
 "nbformat_minor": 4
}
